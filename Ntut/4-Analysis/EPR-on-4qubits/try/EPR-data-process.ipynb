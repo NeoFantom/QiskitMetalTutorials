{
 "cells": [
  {
   "cell_type": "code",
   "execution_count": 4,
   "id": "04eefaf7-3983-47c5-8ceb-0802279c6df4",
   "metadata": {},
   "outputs": [],
   "source": [
    "import numpy as np\n",
    "from pprint import pprint\n",
    "import sys\n",
    "import pandas"
   ]
  },
  {
   "cell_type": "code",
   "execution_count": 62,
   "id": "dd951828-7a98-4843-a078-4c5f6a8ace99",
   "metadata": {},
   "outputs": [],
   "source": [
    "def print_result(x, indent_str='  ', indent_level=0, iskey=False, file=sys.stdout):\n",
    "    from qiskit_metal import Dict\n",
    "    import pandas\n",
    "    import numpy as np\n",
    "    import collections\n",
    "    pandas.set_option('display.expand_frame_repr', False)\n",
    "    \n",
    "    create_file = type(file) is str\n",
    "    if create_file:\n",
    "        file = open(file, mode='w')\n",
    "    \n",
    "    if iskey:\n",
    "        x = \"'\" + x + \"'\" if type(x) is str else x\n",
    "        print(indent_str * indent_level + str(x) + ':', file=file)\n",
    "        return\n",
    "        \n",
    "    if type(x) in {dict, Dict, collections.OrderedDict}:\n",
    "        for k, v in x.items():\n",
    "            print_result(k, indent_str, indent_level, iskey=True, file=file)\n",
    "            print_result(v, indent_str, indent_level+1, file=file)\n",
    "    elif type(x) in {pandas.core.frame.DataFrame, pandas.core.series.Series}:\n",
    "        print(indent_str * indent_level + 'type: ' + str(type(x)), file=file)\n",
    "        s = str(x)\n",
    "        for line in s.splitlines():\n",
    "            print(indent_str * indent_level + line, file=file)\n",
    "    elif type(x) is str:\n",
    "        print(\"'\" + x + \"'\", file=file)\n",
    "    else:\n",
    "        if type(x) not in {int, float, np.float32, np.float64, np.int32, np.int64}:\n",
    "            print(indent_str * indent_level + 'type: ' + str(type(x)), file=file)\n",
    "        s = str(x)\n",
    "        for line in s.splitlines():\n",
    "            print(indent_str * indent_level + line, file=file)\n",
    "    \n",
    "    if create_file:\n",
    "        file.close()\n",
    "    return"
   ]
  },
  {
   "cell_type": "code",
   "execution_count": 65,
   "id": "b595edb2-70ba-4727-8d3b-7b940b53a8b7",
   "metadata": {},
   "outputs": [
    {
     "data": {
      "text/plain": [
       "dict"
      ]
     },
     "execution_count": 65,
     "metadata": {},
     "output_type": "execute_result"
    }
   ],
   "source": [
    "dataEPR = np.load('dataEPR.npz', allow_pickle=True)\n",
    "type(dataEPR)"
   ]
  },
  {
   "cell_type": "code",
   "execution_count": 66,
   "id": "e0d04de8-cac5-483e-b505-74bbc42079c7",
   "metadata": {},
   "outputs": [],
   "source": [
    "print_result(dataEPR, file='dataEPR.txt', indent_str=' '*2)"
   ]
  },
  {
   "cell_type": "code",
   "execution_count": null,
   "id": "9fcf7ff2-6d16-442a-b8f0-0c9fe91deae4",
   "metadata": {},
   "outputs": [],
   "source": []
  }
 ],
 "metadata": {
  "kernelspec": {
   "display_name": "qiskit_metal_clone",
   "language": "python",
   "name": "qiskit_metal_clone"
  },
  "language_info": {
   "codemirror_mode": {
    "name": "ipython",
    "version": 3
   },
   "file_extension": ".py",
   "mimetype": "text/x-python",
   "name": "python",
   "nbconvert_exporter": "python",
   "pygments_lexer": "ipython3",
   "version": "3.10.6"
  }
 },
 "nbformat": 4,
 "nbformat_minor": 5
}
