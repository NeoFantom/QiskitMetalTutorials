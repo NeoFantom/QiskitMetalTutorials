{
 "cells": [
  {
   "cell_type": "markdown",
   "metadata": {},
   "source": [
    "# Capacitance matrix and LOM analysis\n",
    "### Prerequisite\n",
    "You need to have a working local installation of Ansys."
   ]
  },
  {
   "cell_type": "markdown",
   "metadata": {},
   "source": [
    "## 1. Create the design in Metal"
   ]
  },
  {
   "cell_type": "code",
   "execution_count": 28,
   "metadata": {},
   "outputs": [],
   "source": [
    "%reload_ext autoreload\n",
    "%autoreload 2"
   ]
  },
  {
   "cell_type": "code",
   "execution_count": 29,
   "metadata": {},
   "outputs": [],
   "source": [
    "import qiskit_metal as metal\n",
    "from qiskit_metal import designs, draw\n",
    "from qiskit_metal import MetalGUI, Dict, Headings"
   ]
  },
  {
   "cell_type": "code",
   "execution_count": 30,
   "metadata": {},
   "outputs": [],
   "source": [
    "design = designs.DesignPlanar()\n",
    "gui = MetalGUI(design)\n",
    "\n",
    "from qiskit_metal.qlibrary.qubits.transmon_pocket import TransmonPocket\n",
    "from qiskit_metal.qlibrary.tlines.meandered import RouteMeander"
   ]
  },
  {
   "cell_type": "code",
   "execution_count": 31,
   "metadata": {},
   "outputs": [],
   "source": [
    "design.variables['cpw_width'] = '15 um'\n",
    "design.variables['cpw_gap'] = '9 um'"
   ]
  },
  {
   "cell_type": "markdown",
   "metadata": {},
   "source": [
    "### In this example, the design consists of 4 qubits and 4 CPWs"
   ]
  },
  {
   "cell_type": "code",
   "execution_count": 32,
   "metadata": {
    "collapsed": true,
    "jupyter": {
     "outputs_hidden": true
    },
    "tags": []
   },
   "outputs": [
    {
     "name": "stderr",
     "output_type": "stream",
     "text": [
      "WARNING:py.warnings:C:\\Users\\neohu\\.conda\\envs\\qiskit-metal\\lib\\site-packages\\pandas\\core\\dtypes\\cast.py:122: ShapelyDeprecationWarning: The array interface is deprecated and will no longer work in Shapely 2.0. Convert the '.coords' to a numpy array instead.\n",
      "  arr = construct_1d_object_array_from_listlike(values)\n",
      "\n",
      "WARNING:py.warnings:C:\\Users\\neohu\\.conda\\envs\\qiskit-metal\\lib\\site-packages\\pandas\\core\\dtypes\\cast.py:122: ShapelyDeprecationWarning: The array interface is deprecated and will no longer work in Shapely 2.0. Convert the '.coords' to a numpy array instead.\n",
      "  arr = construct_1d_object_array_from_listlike(values)\n",
      "\n",
      "WARNING:py.warnings:C:\\Users\\neohu\\.conda\\envs\\qiskit-metal\\lib\\site-packages\\pandas\\core\\dtypes\\cast.py:122: ShapelyDeprecationWarning: The array interface is deprecated and will no longer work in Shapely 2.0. Convert the '.coords' to a numpy array instead.\n",
      "  arr = construct_1d_object_array_from_listlike(values)\n",
      "\n",
      "WARNING:py.warnings:C:\\Users\\neohu\\.conda\\envs\\qiskit-metal\\lib\\site-packages\\pandas\\core\\dtypes\\cast.py:122: ShapelyDeprecationWarning: The array interface is deprecated and will no longer work in Shapely 2.0. Convert the '.coords' to a numpy array instead.\n",
      "  arr = construct_1d_object_array_from_listlike(values)\n",
      "\n",
      "WARNING:py.warnings:C:\\Users\\neohu\\.conda\\envs\\qiskit-metal\\lib\\site-packages\\pandas\\core\\dtypes\\cast.py:122: ShapelyDeprecationWarning: The array interface is deprecated and will no longer work in Shapely 2.0. Convert the '.coords' to a numpy array instead.\n",
      "  arr = construct_1d_object_array_from_listlike(values)\n",
      "\n",
      "WARNING:py.warnings:C:\\Users\\neohu\\.conda\\envs\\qiskit-metal\\lib\\site-packages\\pandas\\core\\dtypes\\cast.py:122: ShapelyDeprecationWarning: The array interface is deprecated and will no longer work in Shapely 2.0. Convert the '.coords' to a numpy array instead.\n",
      "  arr = construct_1d_object_array_from_listlike(values)\n",
      "\n",
      "WARNING:py.warnings:C:\\Users\\neohu\\.conda\\envs\\qiskit-metal\\lib\\site-packages\\pandas\\core\\dtypes\\cast.py:122: ShapelyDeprecationWarning: The array interface is deprecated and will no longer work in Shapely 2.0. Convert the '.coords' to a numpy array instead.\n",
      "  arr = construct_1d_object_array_from_listlike(values)\n",
      "\n",
      "WARNING:py.warnings:C:\\Users\\neohu\\.conda\\envs\\qiskit-metal\\lib\\site-packages\\pandas\\core\\dtypes\\cast.py:122: ShapelyDeprecationWarning: The array interface is deprecated and will no longer work in Shapely 2.0. Convert the '.coords' to a numpy array instead.\n",
      "  arr = construct_1d_object_array_from_listlike(values)\n",
      "\n",
      "WARNING:py.warnings:C:\\Users\\neohu\\.conda\\envs\\qiskit-metal\\lib\\site-packages\\pandas\\core\\dtypes\\cast.py:122: ShapelyDeprecationWarning: The array interface is deprecated and will no longer work in Shapely 2.0. Convert the '.coords' to a numpy array instead.\n",
      "  arr = construct_1d_object_array_from_listlike(values)\n",
      "\n",
      "WARNING:py.warnings:C:\\Users\\neohu\\.conda\\envs\\qiskit-metal\\lib\\site-packages\\pandas\\core\\dtypes\\cast.py:122: ShapelyDeprecationWarning: The array interface is deprecated and will no longer work in Shapely 2.0. Convert the '.coords' to a numpy array instead.\n",
      "  arr = construct_1d_object_array_from_listlike(values)\n",
      "\n",
      "WARNING:py.warnings:C:\\Users\\neohu\\.conda\\envs\\qiskit-metal\\lib\\site-packages\\pandas\\core\\dtypes\\cast.py:122: ShapelyDeprecationWarning: The array interface is deprecated and will no longer work in Shapely 2.0. Convert the '.coords' to a numpy array instead.\n",
      "  arr = construct_1d_object_array_from_listlike(values)\n",
      "\n",
      "WARNING:py.warnings:C:\\Users\\neohu\\.conda\\envs\\qiskit-metal\\lib\\site-packages\\pandas\\core\\dtypes\\cast.py:122: ShapelyDeprecationWarning: The array interface is deprecated and will no longer work in Shapely 2.0. Convert the '.coords' to a numpy array instead.\n",
      "  arr = construct_1d_object_array_from_listlike(values)\n",
      "\n",
      "WARNING:py.warnings:C:\\Users\\neohu\\.conda\\envs\\qiskit-metal\\lib\\site-packages\\pandas\\core\\dtypes\\cast.py:122: ShapelyDeprecationWarning: The array interface is deprecated and will no longer work in Shapely 2.0. Convert the '.coords' to a numpy array instead.\n",
      "  arr = construct_1d_object_array_from_listlike(values)\n",
      "\n",
      "WARNING:py.warnings:C:\\Users\\neohu\\.conda\\envs\\qiskit-metal\\lib\\site-packages\\pandas\\core\\dtypes\\cast.py:122: ShapelyDeprecationWarning: The array interface is deprecated and will no longer work in Shapely 2.0. Convert the '.coords' to a numpy array instead.\n",
      "  arr = construct_1d_object_array_from_listlike(values)\n",
      "\n",
      "WARNING:py.warnings:C:\\Users\\neohu\\.conda\\envs\\qiskit-metal\\lib\\site-packages\\pandas\\core\\dtypes\\cast.py:122: ShapelyDeprecationWarning: The array interface is deprecated and will no longer work in Shapely 2.0. Convert the '.coords' to a numpy array instead.\n",
      "  arr = construct_1d_object_array_from_listlike(values)\n",
      "\n",
      "WARNING:py.warnings:C:\\Users\\neohu\\.conda\\envs\\qiskit-metal\\lib\\site-packages\\pandas\\core\\dtypes\\cast.py:122: ShapelyDeprecationWarning: The array interface is deprecated and will no longer work in Shapely 2.0. Convert the '.coords' to a numpy array instead.\n",
      "  arr = construct_1d_object_array_from_listlike(values)\n",
      "\n",
      "WARNING:py.warnings:C:\\Users\\neohu\\.conda\\envs\\qiskit-metal\\lib\\site-packages\\pandas\\core\\dtypes\\cast.py:122: ShapelyDeprecationWarning: The array interface is deprecated and will no longer work in Shapely 2.0. Convert the '.coords' to a numpy array instead.\n",
      "  arr = construct_1d_object_array_from_listlike(values)\n",
      "\n",
      "WARNING:py.warnings:C:\\Users\\neohu\\.conda\\envs\\qiskit-metal\\lib\\site-packages\\pandas\\core\\dtypes\\cast.py:122: ShapelyDeprecationWarning: The array interface is deprecated and will no longer work in Shapely 2.0. Convert the '.coords' to a numpy array instead.\n",
      "  arr = construct_1d_object_array_from_listlike(values)\n",
      "\n",
      "WARNING:py.warnings:C:\\Users\\neohu\\.conda\\envs\\qiskit-metal\\lib\\site-packages\\pandas\\core\\dtypes\\cast.py:122: ShapelyDeprecationWarning: The array interface is deprecated and will no longer work in Shapely 2.0. Convert the '.coords' to a numpy array instead.\n",
      "  arr = construct_1d_object_array_from_listlike(values)\n",
      "\n",
      "WARNING:py.warnings:C:\\Users\\neohu\\.conda\\envs\\qiskit-metal\\lib\\site-packages\\pandas\\core\\dtypes\\cast.py:122: ShapelyDeprecationWarning: The array interface is deprecated and will no longer work in Shapely 2.0. Convert the '.coords' to a numpy array instead.\n",
      "  arr = construct_1d_object_array_from_listlike(values)\n",
      "\n",
      "WARNING:py.warnings:C:\\Users\\neohu\\.conda\\envs\\qiskit-metal\\lib\\site-packages\\pandas\\core\\dtypes\\cast.py:122: ShapelyDeprecationWarning: The array interface is deprecated and will no longer work in Shapely 2.0. Convert the '.coords' to a numpy array instead.\n",
      "  arr = construct_1d_object_array_from_listlike(values)\n",
      "\n",
      "WARNING:py.warnings:C:\\Users\\neohu\\.conda\\envs\\qiskit-metal\\lib\\site-packages\\pandas\\core\\dtypes\\cast.py:122: ShapelyDeprecationWarning: The array interface is deprecated and will no longer work in Shapely 2.0. Convert the '.coords' to a numpy array instead.\n",
      "  arr = construct_1d_object_array_from_listlike(values)\n",
      "\n",
      "WARNING:py.warnings:C:\\Users\\neohu\\.conda\\envs\\qiskit-metal\\lib\\site-packages\\pandas\\core\\dtypes\\cast.py:122: ShapelyDeprecationWarning: The array interface is deprecated and will no longer work in Shapely 2.0. Convert the '.coords' to a numpy array instead.\n",
      "  arr = construct_1d_object_array_from_listlike(values)\n",
      "\n",
      "WARNING:py.warnings:C:\\Users\\neohu\\.conda\\envs\\qiskit-metal\\lib\\site-packages\\pandas\\core\\dtypes\\cast.py:122: ShapelyDeprecationWarning: The array interface is deprecated and will no longer work in Shapely 2.0. Convert the '.coords' to a numpy array instead.\n",
      "  arr = construct_1d_object_array_from_listlike(values)\n",
      "\n",
      "WARNING:py.warnings:C:\\Users\\neohu\\.conda\\envs\\qiskit-metal\\lib\\site-packages\\pandas\\core\\dtypes\\cast.py:122: ShapelyDeprecationWarning: The array interface is deprecated and will no longer work in Shapely 2.0. Convert the '.coords' to a numpy array instead.\n",
      "  arr = construct_1d_object_array_from_listlike(values)\n",
      "\n",
      "WARNING:py.warnings:C:\\Users\\neohu\\.conda\\envs\\qiskit-metal\\lib\\site-packages\\pandas\\core\\dtypes\\cast.py:122: ShapelyDeprecationWarning: The array interface is deprecated and will no longer work in Shapely 2.0. Convert the '.coords' to a numpy array instead.\n",
      "  arr = construct_1d_object_array_from_listlike(values)\n",
      "\n",
      "WARNING:py.warnings:C:\\Users\\neohu\\.conda\\envs\\qiskit-metal\\lib\\site-packages\\pandas\\core\\dtypes\\cast.py:122: ShapelyDeprecationWarning: The array interface is deprecated and will no longer work in Shapely 2.0. Convert the '.coords' to a numpy array instead.\n",
      "  arr = construct_1d_object_array_from_listlike(values)\n",
      "\n",
      "WARNING:py.warnings:C:\\Users\\neohu\\.conda\\envs\\qiskit-metal\\lib\\site-packages\\pandas\\core\\dtypes\\cast.py:122: ShapelyDeprecationWarning: The array interface is deprecated and will no longer work in Shapely 2.0. Convert the '.coords' to a numpy array instead.\n",
      "  arr = construct_1d_object_array_from_listlike(values)\n",
      "\n",
      "WARNING:py.warnings:C:\\Users\\neohu\\.conda\\envs\\qiskit-metal\\lib\\site-packages\\pandas\\core\\dtypes\\cast.py:122: ShapelyDeprecationWarning: The array interface is deprecated and will no longer work in Shapely 2.0. Convert the '.coords' to a numpy array instead.\n",
      "  arr = construct_1d_object_array_from_listlike(values)\n",
      "\n",
      "WARNING:py.warnings:C:\\Users\\neohu\\.conda\\envs\\qiskit-metal\\lib\\site-packages\\pandas\\core\\dtypes\\cast.py:122: ShapelyDeprecationWarning: The array interface is deprecated and will no longer work in Shapely 2.0. Convert the '.coords' to a numpy array instead.\n",
      "  arr = construct_1d_object_array_from_listlike(values)\n",
      "\n",
      "WARNING:py.warnings:C:\\Users\\neohu\\.conda\\envs\\qiskit-metal\\lib\\site-packages\\pandas\\core\\dtypes\\cast.py:122: ShapelyDeprecationWarning: The array interface is deprecated and will no longer work in Shapely 2.0. Convert the '.coords' to a numpy array instead.\n",
      "  arr = construct_1d_object_array_from_listlike(values)\n",
      "\n",
      "WARNING:py.warnings:C:\\Users\\neohu\\.conda\\envs\\qiskit-metal\\lib\\site-packages\\pandas\\core\\dtypes\\cast.py:122: ShapelyDeprecationWarning: The array interface is deprecated and will no longer work in Shapely 2.0. Convert the '.coords' to a numpy array instead.\n",
      "  arr = construct_1d_object_array_from_listlike(values)\n",
      "\n",
      "WARNING:py.warnings:C:\\Users\\neohu\\.conda\\envs\\qiskit-metal\\lib\\site-packages\\pandas\\core\\dtypes\\cast.py:122: ShapelyDeprecationWarning: The array interface is deprecated and will no longer work in Shapely 2.0. Convert the '.coords' to a numpy array instead.\n",
      "  arr = construct_1d_object_array_from_listlike(values)\n",
      "\n",
      "WARNING:py.warnings:C:\\Users\\neohu\\.conda\\envs\\qiskit-metal\\lib\\site-packages\\pandas\\core\\dtypes\\cast.py:122: ShapelyDeprecationWarning: The array interface is deprecated and will no longer work in Shapely 2.0. Convert the '.coords' to a numpy array instead.\n",
      "  arr = construct_1d_object_array_from_listlike(values)\n",
      "\n",
      "WARNING:py.warnings:C:\\Users\\neohu\\.conda\\envs\\qiskit-metal\\lib\\site-packages\\pandas\\core\\dtypes\\cast.py:122: ShapelyDeprecationWarning: The array interface is deprecated and will no longer work in Shapely 2.0. Convert the '.coords' to a numpy array instead.\n",
      "  arr = construct_1d_object_array_from_listlike(values)\n",
      "\n",
      "WARNING:py.warnings:C:\\Users\\neohu\\.conda\\envs\\qiskit-metal\\lib\\site-packages\\pandas\\core\\dtypes\\cast.py:122: ShapelyDeprecationWarning: The array interface is deprecated and will no longer work in Shapely 2.0. Convert the '.coords' to a numpy array instead.\n",
      "  arr = construct_1d_object_array_from_listlike(values)\n",
      "\n",
      "WARNING:py.warnings:C:\\Users\\neohu\\.conda\\envs\\qiskit-metal\\lib\\site-packages\\pandas\\core\\dtypes\\cast.py:122: ShapelyDeprecationWarning: The array interface is deprecated and will no longer work in Shapely 2.0. Convert the '.coords' to a numpy array instead.\n",
      "  arr = construct_1d_object_array_from_listlike(values)\n",
      "\n",
      "WARNING:py.warnings:C:\\Users\\neohu\\.conda\\envs\\qiskit-metal\\lib\\site-packages\\pandas\\core\\dtypes\\cast.py:122: ShapelyDeprecationWarning: The array interface is deprecated and will no longer work in Shapely 2.0. Convert the '.coords' to a numpy array instead.\n",
      "  arr = construct_1d_object_array_from_listlike(values)\n",
      "\n",
      "WARNING:py.warnings:C:\\Users\\neohu\\.conda\\envs\\qiskit-metal\\lib\\site-packages\\pandas\\core\\dtypes\\cast.py:122: ShapelyDeprecationWarning: The array interface is deprecated and will no longer work in Shapely 2.0. Convert the '.coords' to a numpy array instead.\n",
      "  arr = construct_1d_object_array_from_listlike(values)\n",
      "\n",
      "WARNING:py.warnings:C:\\Users\\neohu\\.conda\\envs\\qiskit-metal\\lib\\site-packages\\pandas\\core\\dtypes\\cast.py:122: ShapelyDeprecationWarning: The array interface is deprecated and will no longer work in Shapely 2.0. Convert the '.coords' to a numpy array instead.\n",
      "  arr = construct_1d_object_array_from_listlike(values)\n",
      "\n",
      "WARNING:py.warnings:C:\\Users\\neohu\\.conda\\envs\\qiskit-metal\\lib\\site-packages\\pandas\\core\\dtypes\\cast.py:122: ShapelyDeprecationWarning: The array interface is deprecated and will no longer work in Shapely 2.0. Convert the '.coords' to a numpy array instead.\n",
      "  arr = construct_1d_object_array_from_listlike(values)\n",
      "\n",
      "WARNING:py.warnings:C:\\Users\\neohu\\.conda\\envs\\qiskit-metal\\lib\\site-packages\\pandas\\core\\dtypes\\cast.py:122: ShapelyDeprecationWarning: The array interface is deprecated and will no longer work in Shapely 2.0. Convert the '.coords' to a numpy array instead.\n",
      "  arr = construct_1d_object_array_from_listlike(values)\n",
      "\n",
      "WARNING:py.warnings:C:\\Users\\neohu\\.conda\\envs\\qiskit-metal\\lib\\site-packages\\pandas\\core\\dtypes\\cast.py:122: ShapelyDeprecationWarning: The array interface is deprecated and will no longer work in Shapely 2.0. Convert the '.coords' to a numpy array instead.\n",
      "  arr = construct_1d_object_array_from_listlike(values)\n",
      "\n",
      "WARNING:py.warnings:C:\\Users\\neohu\\.conda\\envs\\qiskit-metal\\lib\\site-packages\\pandas\\core\\dtypes\\cast.py:122: ShapelyDeprecationWarning: The array interface is deprecated and will no longer work in Shapely 2.0. Convert the '.coords' to a numpy array instead.\n",
      "  arr = construct_1d_object_array_from_listlike(values)\n",
      "\n",
      "WARNING:py.warnings:C:\\Users\\neohu\\.conda\\envs\\qiskit-metal\\lib\\site-packages\\pandas\\core\\dtypes\\cast.py:122: ShapelyDeprecationWarning: The array interface is deprecated and will no longer work in Shapely 2.0. Convert the '.coords' to a numpy array instead.\n",
      "  arr = construct_1d_object_array_from_listlike(values)\n",
      "\n",
      "WARNING:py.warnings:C:\\Users\\neohu\\.conda\\envs\\qiskit-metal\\lib\\site-packages\\pandas\\core\\dtypes\\cast.py:122: ShapelyDeprecationWarning: The array interface is deprecated and will no longer work in Shapely 2.0. Convert the '.coords' to a numpy array instead.\n",
      "  arr = construct_1d_object_array_from_listlike(values)\n",
      "\n",
      "WARNING:py.warnings:C:\\Users\\neohu\\.conda\\envs\\qiskit-metal\\lib\\site-packages\\pandas\\core\\dtypes\\cast.py:122: ShapelyDeprecationWarning: The array interface is deprecated and will no longer work in Shapely 2.0. Convert the '.coords' to a numpy array instead.\n",
      "  arr = construct_1d_object_array_from_listlike(values)\n",
      "\n",
      "WARNING:py.warnings:C:\\Users\\neohu\\.conda\\envs\\qiskit-metal\\lib\\site-packages\\pandas\\core\\dtypes\\cast.py:122: ShapelyDeprecationWarning: The array interface is deprecated and will no longer work in Shapely 2.0. Convert the '.coords' to a numpy array instead.\n",
      "  arr = construct_1d_object_array_from_listlike(values)\n",
      "\n",
      "WARNING:py.warnings:C:\\Users\\neohu\\.conda\\envs\\qiskit-metal\\lib\\site-packages\\pandas\\core\\dtypes\\cast.py:122: ShapelyDeprecationWarning: The array interface is deprecated and will no longer work in Shapely 2.0. Convert the '.coords' to a numpy array instead.\n",
      "  arr = construct_1d_object_array_from_listlike(values)\n",
      "\n",
      "WARNING:py.warnings:C:\\Users\\neohu\\.conda\\envs\\qiskit-metal\\lib\\site-packages\\pandas\\core\\dtypes\\cast.py:122: ShapelyDeprecationWarning: The array interface is deprecated and will no longer work in Shapely 2.0. Convert the '.coords' to a numpy array instead.\n",
      "  arr = construct_1d_object_array_from_listlike(values)\n",
      "\n",
      "WARNING:py.warnings:C:\\Users\\neohu\\.conda\\envs\\qiskit-metal\\lib\\site-packages\\pandas\\core\\dtypes\\cast.py:122: ShapelyDeprecationWarning: The array interface is deprecated and will no longer work in Shapely 2.0. Convert the '.coords' to a numpy array instead.\n",
      "  arr = construct_1d_object_array_from_listlike(values)\n",
      "\n",
      "WARNING:py.warnings:C:\\Users\\neohu\\.conda\\envs\\qiskit-metal\\lib\\site-packages\\pandas\\core\\dtypes\\cast.py:122: ShapelyDeprecationWarning: The array interface is deprecated and will no longer work in Shapely 2.0. Convert the '.coords' to a numpy array instead.\n",
      "  arr = construct_1d_object_array_from_listlike(values)\n",
      "\n",
      "WARNING:py.warnings:C:\\Users\\neohu\\.conda\\envs\\qiskit-metal\\lib\\site-packages\\pandas\\core\\dtypes\\cast.py:122: ShapelyDeprecationWarning: The array interface is deprecated and will no longer work in Shapely 2.0. Convert the '.coords' to a numpy array instead.\n",
      "  arr = construct_1d_object_array_from_listlike(values)\n",
      "\n",
      "WARNING:py.warnings:C:\\Users\\neohu\\.conda\\envs\\qiskit-metal\\lib\\site-packages\\pandas\\core\\dtypes\\cast.py:122: ShapelyDeprecationWarning: The array interface is deprecated and will no longer work in Shapely 2.0. Convert the '.coords' to a numpy array instead.\n",
      "  arr = construct_1d_object_array_from_listlike(values)\n",
      "\n",
      "WARNING:py.warnings:C:\\Users\\neohu\\.conda\\envs\\qiskit-metal\\lib\\site-packages\\pandas\\core\\dtypes\\cast.py:122: ShapelyDeprecationWarning: The array interface is deprecated and will no longer work in Shapely 2.0. Convert the '.coords' to a numpy array instead.\n",
      "  arr = construct_1d_object_array_from_listlike(values)\n",
      "\n",
      "WARNING:py.warnings:C:\\Users\\neohu\\.conda\\envs\\qiskit-metal\\lib\\site-packages\\pandas\\core\\dtypes\\cast.py:122: ShapelyDeprecationWarning: The array interface is deprecated and will no longer work in Shapely 2.0. Convert the '.coords' to a numpy array instead.\n",
      "  arr = construct_1d_object_array_from_listlike(values)\n",
      "\n",
      "WARNING:py.warnings:C:\\Users\\neohu\\.conda\\envs\\qiskit-metal\\lib\\site-packages\\pandas\\core\\dtypes\\cast.py:122: ShapelyDeprecationWarning: The array interface is deprecated and will no longer work in Shapely 2.0. Convert the '.coords' to a numpy array instead.\n",
      "  arr = construct_1d_object_array_from_listlike(values)\n",
      "\n",
      "WARNING:py.warnings:C:\\Users\\neohu\\.conda\\envs\\qiskit-metal\\lib\\site-packages\\pandas\\core\\dtypes\\cast.py:122: ShapelyDeprecationWarning: The array interface is deprecated and will no longer work in Shapely 2.0. Convert the '.coords' to a numpy array instead.\n",
      "  arr = construct_1d_object_array_from_listlike(values)\n",
      "\n",
      "WARNING:py.warnings:C:\\Users\\neohu\\.conda\\envs\\qiskit-metal\\lib\\site-packages\\pandas\\core\\dtypes\\cast.py:122: ShapelyDeprecationWarning: The array interface is deprecated and will no longer work in Shapely 2.0. Convert the '.coords' to a numpy array instead.\n",
      "  arr = construct_1d_object_array_from_listlike(values)\n",
      "\n",
      "WARNING:py.warnings:C:\\Users\\neohu\\.conda\\envs\\qiskit-metal\\lib\\site-packages\\pandas\\core\\dtypes\\cast.py:122: ShapelyDeprecationWarning: The array interface is deprecated and will no longer work in Shapely 2.0. Convert the '.coords' to a numpy array instead.\n",
      "  arr = construct_1d_object_array_from_listlike(values)\n",
      "\n",
      "WARNING:py.warnings:C:\\Users\\neohu\\.conda\\envs\\qiskit-metal\\lib\\site-packages\\pandas\\core\\dtypes\\cast.py:122: ShapelyDeprecationWarning: The array interface is deprecated and will no longer work in Shapely 2.0. Convert the '.coords' to a numpy array instead.\n",
      "  arr = construct_1d_object_array_from_listlike(values)\n",
      "\n",
      "WARNING:py.warnings:C:\\Users\\neohu\\.conda\\envs\\qiskit-metal\\lib\\site-packages\\pandas\\core\\dtypes\\cast.py:122: ShapelyDeprecationWarning: The array interface is deprecated and will no longer work in Shapely 2.0. Convert the '.coords' to a numpy array instead.\n",
      "  arr = construct_1d_object_array_from_listlike(values)\n",
      "\n",
      "WARNING:py.warnings:C:\\Users\\neohu\\.conda\\envs\\qiskit-metal\\lib\\site-packages\\pandas\\core\\dtypes\\cast.py:122: ShapelyDeprecationWarning: The array interface is deprecated and will no longer work in Shapely 2.0. Convert the '.coords' to a numpy array instead.\n",
      "  arr = construct_1d_object_array_from_listlike(values)\n",
      "\n",
      "WARNING:py.warnings:C:\\Users\\neohu\\.conda\\envs\\qiskit-metal\\lib\\site-packages\\pandas\\core\\dtypes\\cast.py:122: ShapelyDeprecationWarning: The array interface is deprecated and will no longer work in Shapely 2.0. Convert the '.coords' to a numpy array instead.\n",
      "  arr = construct_1d_object_array_from_listlike(values)\n",
      "\n",
      "WARNING:py.warnings:C:\\Users\\neohu\\.conda\\envs\\qiskit-metal\\lib\\site-packages\\pandas\\core\\dtypes\\cast.py:122: ShapelyDeprecationWarning: The array interface is deprecated and will no longer work in Shapely 2.0. Convert the '.coords' to a numpy array instead.\n",
      "  arr = construct_1d_object_array_from_listlike(values)\n",
      "\n",
      "WARNING:py.warnings:C:\\Users\\neohu\\.conda\\envs\\qiskit-metal\\lib\\site-packages\\pandas\\core\\dtypes\\cast.py:122: ShapelyDeprecationWarning: The array interface is deprecated and will no longer work in Shapely 2.0. Convert the '.coords' to a numpy array instead.\n",
      "  arr = construct_1d_object_array_from_listlike(values)\n",
      "\n",
      "WARNING:py.warnings:C:\\Users\\neohu\\.conda\\envs\\qiskit-metal\\lib\\site-packages\\pandas\\core\\dtypes\\cast.py:122: ShapelyDeprecationWarning: The array interface is deprecated and will no longer work in Shapely 2.0. Convert the '.coords' to a numpy array instead.\n",
      "  arr = construct_1d_object_array_from_listlike(values)\n",
      "\n",
      "WARNING:py.warnings:C:\\Users\\neohu\\.conda\\envs\\qiskit-metal\\lib\\site-packages\\pandas\\core\\dtypes\\cast.py:122: ShapelyDeprecationWarning: The array interface is deprecated and will no longer work in Shapely 2.0. Convert the '.coords' to a numpy array instead.\n",
      "  arr = construct_1d_object_array_from_listlike(values)\n",
      "\n",
      "WARNING:py.warnings:C:\\Users\\neohu\\.conda\\envs\\qiskit-metal\\lib\\site-packages\\pandas\\core\\dtypes\\cast.py:122: ShapelyDeprecationWarning: The array interface is deprecated and will no longer work in Shapely 2.0. Convert the '.coords' to a numpy array instead.\n",
      "  arr = construct_1d_object_array_from_listlike(values)\n",
      "\n",
      "WARNING:py.warnings:C:\\Users\\neohu\\.conda\\envs\\qiskit-metal\\lib\\site-packages\\pandas\\core\\dtypes\\cast.py:122: ShapelyDeprecationWarning: The array interface is deprecated and will no longer work in Shapely 2.0. Convert the '.coords' to a numpy array instead.\n",
      "  arr = construct_1d_object_array_from_listlike(values)\n",
      "\n",
      "WARNING:py.warnings:C:\\Users\\neohu\\.conda\\envs\\qiskit-metal\\lib\\site-packages\\pandas\\core\\dtypes\\cast.py:122: ShapelyDeprecationWarning: The array interface is deprecated and will no longer work in Shapely 2.0. Convert the '.coords' to a numpy array instead.\n",
      "  arr = construct_1d_object_array_from_listlike(values)\n",
      "\n",
      "WARNING:py.warnings:C:\\Users\\neohu\\.conda\\envs\\qiskit-metal\\lib\\site-packages\\pandas\\core\\dtypes\\cast.py:122: ShapelyDeprecationWarning: The array interface is deprecated and will no longer work in Shapely 2.0. Convert the '.coords' to a numpy array instead.\n",
      "  arr = construct_1d_object_array_from_listlike(values)\n",
      "\n"
     ]
    }
   ],
   "source": [
    "# Allow running the same cell here multiple times to overwrite changes\n",
    "design.overwrite_enabled = True\n",
    "\n",
    "## Custom options for all the transmons\n",
    "options = dict(\n",
    "    # Some options we want to modify from the defaults\n",
    "    # (see below for defaults)\n",
    "    pad_width = '425 um', \n",
    "    pocket_height = '650um',\n",
    "    # Adding 4 connectors (see below for defaults)\n",
    "    connection_pads=dict(\n",
    "        readout = dict(loc_W=+1,loc_H=-1, pad_width='200um'),\n",
    "        bus1 = dict(loc_W=-1,loc_H=+1, pad_height='30um'),\n",
    "        bus2 = dict(loc_W=-1,loc_H=-1, pad_height='50um')\n",
    "    )\n",
    ")\n",
    "\n",
    "## Create 4 transmons\n",
    "\n",
    "q1 = TransmonPocket(design, 'Q1', options = dict(\n",
    "    pos_x='+2.42251mm', pos_y='+0.0mm', **options))\n",
    "q2 = TransmonPocket(design, 'Q2', options = dict(\n",
    "    pos_x='+0.0mm', pos_y='-0.95mm', orientation = '270', **options))\n",
    "q3 = TransmonPocket(design, 'Q3', options = dict(\n",
    "    pos_x='-2.42251mm', pos_y='+0.0mm', orientation = '180', **options))\n",
    "q4 = TransmonPocket(design, 'Q4', options = dict(\n",
    "    pos_x='+0.0mm', pos_y='+0.95mm', orientation = '90', **options))\n",
    "\n",
    "RouteMeander.get_template_options(design)\n",
    "\n",
    "options = Dict(\n",
    "        lead=Dict(\n",
    "            start_straight='0.2mm',\n",
    "            end_straight='0.2mm'),\n",
    "        trace_gap='9um',\n",
    "        trace_width='15um')\n",
    "\n",
    "def connect(component_name: str, component1: str, pin1: str, component2: str, pin2: str,\n",
    "            length: str, asymmetry='0 um', flip=False, fillet='90um'):\n",
    "    \"\"\"Connect two pins with a CPW.\"\"\"\n",
    "    myoptions = Dict(\n",
    "        fillet=fillet,\n",
    "        hfss_wire_bonds = True,\n",
    "        pin_inputs=Dict(\n",
    "            start_pin=Dict(\n",
    "                component=component1,\n",
    "                pin=pin1),\n",
    "            end_pin=Dict(\n",
    "                component=component2,\n",
    "                pin=pin2)),\n",
    "        total_length=length)\n",
    "    myoptions.update(options)\n",
    "    myoptions.meander.asymmetry = asymmetry\n",
    "    myoptions.meander.lead_direction_inverted = 'true' if flip else 'false'\n",
    "    return RouteMeander(design, component_name, myoptions)\n",
    "\n",
    "asym = 140\n",
    "cpw1 = connect('cpw1', 'Q1', 'bus2', 'Q2', 'bus1', '6.0 mm', f'+{asym}um')\n",
    "cpw2 = connect('cpw2', 'Q3', 'bus1', 'Q2', 'bus2', '6.1 mm', f'-{asym}um', flip=True)\n",
    "cpw3 = connect('cpw3', 'Q3', 'bus2', 'Q4', 'bus1', '6.0 mm', f'+{asym}um')\n",
    "cpw4 = connect('cpw4', 'Q1', 'bus1', 'Q4', 'bus2', '6.1 mm', f'-{asym}um', flip=True)\n",
    "\n",
    "gui.rebuild()\n",
    "gui.autoscale()"
   ]
  },
  {
   "cell_type": "code",
   "execution_count": 33,
   "metadata": {
    "tags": [
     "nbsphinx-thumbnail"
    ]
   },
   "outputs": [
    {
     "data": {
      "image/png": "[encoded data removed]",
      "text/plain": [
       "<IPython.core.display.Image object>"
      ]
     },
     "metadata": {
      "image/png": {
       "width": 500
      }
     },
     "output_type": "display_data"
    }
   ],
   "source": [
    "gui.screenshot()"
   ]
  },
  {
   "cell_type": "markdown",
   "metadata": {},
   "source": [
    "## 2. Capacitance Analysis and LOM derivation using the analysis package - most users"
   ]
  },
  {
   "cell_type": "markdown",
   "metadata": {},
   "source": [
    "### Capacitance Analysis\n",
    "Select the analysis you intend to run from the `qiskit_metal.analyses` collection.<br>\n",
    "Select the design to analyze and the tool to use for any external simulation"
   ]
  },
  {
   "cell_type": "code",
   "execution_count": 34,
   "metadata": {},
   "outputs": [],
   "source": [
    "from qiskit_metal.analyses.quantization import LOManalysis\n",
    "c1 = LOManalysis(design, \"q3d\")"
   ]
  },
  {
   "cell_type": "markdown",
   "metadata": {},
   "source": [
    "(optional) You can review and update the Analysis default setup following the examples in the next two cells."
   ]
  },
  {
   "cell_type": "code",
   "execution_count": 35,
   "metadata": {},
   "outputs": [
    {
     "data": {
      "text/plain": [
       "{'name': 'Setup',\n",
       " 'reuse_selected_design': True,\n",
       " 'reuse_setup': True,\n",
       " 'freq_ghz': 5.0,\n",
       " 'save_fields': False,\n",
       " 'enabled': True,\n",
       " 'max_passes': 15,\n",
       " 'min_passes': 2,\n",
       " 'min_converged_passes': 2,\n",
       " 'percent_error': 0.5,\n",
       " 'percent_refinement': 30,\n",
       " 'auto_increase_solution_order': True,\n",
       " 'solution_order': 'High',\n",
       " 'solver_type': 'Iterative'}"
      ]
     },
     "execution_count": 35,
     "metadata": {},
     "output_type": "execute_result"
    }
   ],
   "source": [
    "c1.sim.setup"
   ]
  },
  {
   "cell_type": "code",
   "execution_count": 36,
   "metadata": {},
   "outputs": [
    {
     "data": {
      "text/plain": [
       "{'name': 'Setup',\n",
       " 'reuse_selected_design': True,\n",
       " 'reuse_setup': True,\n",
       " 'freq_ghz': 5.0,\n",
       " 'save_fields': False,\n",
       " 'enabled': True,\n",
       " 'max_passes': 6,\n",
       " 'min_passes': 2,\n",
       " 'min_converged_passes': 2,\n",
       " 'percent_error': 0.5,\n",
       " 'percent_refinement': 30,\n",
       " 'auto_increase_solution_order': 'False',\n",
       " 'solution_order': 'Medium',\n",
       " 'solver_type': 'Iterative'}"
      ]
     },
     "execution_count": 36,
     "metadata": {},
     "output_type": "execute_result"
    }
   ],
   "source": [
    "# example: update single setting\n",
    "c1.sim.setup.max_passes = 6\n",
    "# example: update multiple settings\n",
    "c1.sim.setup_update(solution_order = 'Medium', auto_increase_solution_order = 'False')\n",
    "\n",
    "c1.sim.setup"
   ]
  },
  {
   "cell_type": "markdown",
   "metadata": {},
   "source": [
    "Analyze a single qubit with 2 endcaps using the default (or edited) analysis setup. Then show the capacitance matrix (from the last pass).\n",
    "\n",
    "You can use the method `run()` instead of `sim.run()` in the following cell if you want to run both cap extraction and lom analysis in a single step. If so, make sure to also tweak the setup for the lom analysis. The input parameters are otherwise the same for the two methods. "
   ]
  },
  {
   "cell_type": "code",
   "execution_count": 38,
   "metadata": {},
   "outputs": [
    {
     "name": "stderr",
     "output_type": "stream",
     "text": [
      "INFO 03:22PM [connect_design]: \tOpened active design\n",
      "\tDesign:    Design_q3d [Solution type: Q3D]\n",
      "INFO 03:22PM [get_setup]: \tOpened setup `Setup`  (<class 'pyEPR.ansys.AnsysQ3DSetup'>)\n",
      "INFO 03:22PM [analyze]: Analyzing setup Setup\n",
      "INFO 03:22PM [get_matrix]: Exporting matrix data to (C:\\Users\\neohu\\AppData\\Local\\Temp\\tmpkasojzrf.txt, C, , Setup:LastAdaptive, \"Original\", \"ohm\", \"nH\", \"fF\", \"mSie\", 5000000000, Maxwell, 1, False\n",
      "INFO 03:22PM [get_matrix]: Exporting matrix data to (C:\\Users\\neohu\\AppData\\Local\\Temp\\tmpciqq5x4n.txt, C, , Setup:AdaptivePass, \"Original\", \"ohm\", \"nH\", \"fF\", \"mSie\", 5000000000, Maxwell, 1, False\n",
      "INFO 03:22PM [get_matrix]: Exporting matrix data to (C:\\Users\\neohu\\AppData\\Local\\Temp\\tmpd1e959lp.txt, C, , Setup:AdaptivePass, \"Original\", \"ohm\", \"nH\", \"fF\", \"mSie\", 5000000000, Maxwell, 2, False\n",
      "INFO 03:22PM [get_matrix]: Exporting matrix data to (C:\\Users\\neohu\\AppData\\Local\\Temp\\tmp1ellp71b.txt, C, , Setup:AdaptivePass, \"Original\", \"ohm\", \"nH\", \"fF\", \"mSie\", 5000000000, Maxwell, 3, False\n",
      "INFO 03:22PM [get_matrix]: Exporting matrix data to (C:\\Users\\neohu\\AppData\\Local\\Temp\\tmpabgmu7ln.txt, C, , Setup:AdaptivePass, \"Original\", \"ohm\", \"nH\", \"fF\", \"mSie\", 5000000000, Maxwell, 4, False\n",
      "INFO 03:22PM [get_matrix]: Exporting matrix data to (C:\\Users\\neohu\\AppData\\Local\\Temp\\tmp1eixeqbc.txt, C, , Setup:AdaptivePass, \"Original\", \"ohm\", \"nH\", \"fF\", \"mSie\", 5000000000, Maxwell, 5, False\n",
      "INFO 03:22PM [get_matrix]: Exporting matrix data to (C:\\Users\\neohu\\AppData\\Local\\Temp\\tmph3os3437.txt, C, , Setup:AdaptivePass, \"Original\", \"ohm\", \"nH\", \"fF\", \"mSie\", 5000000000, Maxwell, 6, False\n",
      "INFO 03:22PM [get_matrix]: Exporting matrix data to (C:\\Users\\neohu\\AppData\\Local\\Temp\\tmpjqvd9c9m.txt, C, , Setup:AdaptivePass, \"Original\", \"ohm\", \"nH\", \"fF\", \"mSie\", 5000000000, Maxwell, 7, False\n"
     ]
    },
    {
     "data": {
      "text/html": [
       "<div>\n",
       "<style scoped>\n",
       "    .dataframe tbody tr th:only-of-type {\n",
       "        vertical-align: middle;\n",
       "    }\n",
       "\n",
       "    .dataframe tbody tr th {\n",
       "        vertical-align: top;\n",
       "    }\n",
       "\n",
       "    .dataframe thead th {\n",
       "        text-align: right;\n",
       "    }\n",
       "</style>\n",
       "<table border=\"1\" class=\"dataframe\">\n",
       "  <thead>\n",
       "    <tr style=\"text-align: right;\">\n",
       "      <th></th>\n",
       "      <th>bus1_connector_pad_Q1</th>\n",
       "      <th>bus2_connector_pad_Q1</th>\n",
       "      <th>ground_main_plane</th>\n",
       "      <th>pad_bot_Q1</th>\n",
       "      <th>pad_top_Q1</th>\n",
       "      <th>readout_connector_pad_Q1</th>\n",
       "    </tr>\n",
       "  </thead>\n",
       "  <tbody>\n",
       "    <tr>\n",
       "      <th>bus1_connector_pad_Q1</th>\n",
       "      <td>49.81918</td>\n",
       "      <td>-0.42243</td>\n",
       "      <td>-33.47371</td>\n",
       "      <td>-1.56619</td>\n",
       "      <td>-13.23557</td>\n",
       "      <td>-0.20510</td>\n",
       "    </tr>\n",
       "    <tr>\n",
       "      <th>bus2_connector_pad_Q1</th>\n",
       "      <td>-0.42243</td>\n",
       "      <td>53.94438</td>\n",
       "      <td>-35.81375</td>\n",
       "      <td>-13.86735</td>\n",
       "      <td>-1.83231</td>\n",
       "      <td>-1.01548</td>\n",
       "    </tr>\n",
       "    <tr>\n",
       "      <th>ground_main_plane</th>\n",
       "      <td>-33.47371</td>\n",
       "      <td>-35.81375</td>\n",
       "      <td>237.80286</td>\n",
       "      <td>-31.52794</td>\n",
       "      <td>-37.95934</td>\n",
       "      <td>-36.57183</td>\n",
       "    </tr>\n",
       "    <tr>\n",
       "      <th>pad_bot_Q1</th>\n",
       "      <td>-1.56619</td>\n",
       "      <td>-13.86735</td>\n",
       "      <td>-31.52794</td>\n",
       "      <td>98.12446</td>\n",
       "      <td>-30.21163</td>\n",
       "      <td>-18.79337</td>\n",
       "    </tr>\n",
       "    <tr>\n",
       "      <th>pad_top_Q1</th>\n",
       "      <td>-13.23557</td>\n",
       "      <td>-1.83231</td>\n",
       "      <td>-37.95934</td>\n",
       "      <td>-30.21163</td>\n",
       "      <td>88.15054</td>\n",
       "      <td>-2.21079</td>\n",
       "    </tr>\n",
       "    <tr>\n",
       "      <th>readout_connector_pad_Q1</th>\n",
       "      <td>-0.20510</td>\n",
       "      <td>-1.01548</td>\n",
       "      <td>-36.57183</td>\n",
       "      <td>-18.79337</td>\n",
       "      <td>-2.21079</td>\n",
       "      <td>59.86763</td>\n",
       "    </tr>\n",
       "  </tbody>\n",
       "</table>\n",
       "</div>"
      ],
      "text/plain": [
       "                          bus1_connector_pad_Q1  bus2_connector_pad_Q1  \\\n",
       "bus1_connector_pad_Q1                  49.81918               -0.42243   \n",
       "bus2_connector_pad_Q1                  -0.42243               53.94438   \n",
       "ground_main_plane                     -33.47371              -35.81375   \n",
       "pad_bot_Q1                             -1.56619              -13.86735   \n",
       "pad_top_Q1                            -13.23557               -1.83231   \n",
       "readout_connector_pad_Q1               -0.20510               -1.01548   \n",
       "\n",
       "                          ground_main_plane  pad_bot_Q1  pad_top_Q1  \\\n",
       "bus1_connector_pad_Q1             -33.47371    -1.56619   -13.23557   \n",
       "bus2_connector_pad_Q1             -35.81375   -13.86735    -1.83231   \n",
       "ground_main_plane                 237.80286   -31.52794   -37.95934   \n",
       "pad_bot_Q1                        -31.52794    98.12446   -30.21163   \n",
       "pad_top_Q1                        -37.95934   -30.21163    88.15054   \n",
       "readout_connector_pad_Q1          -36.57183   -18.79337    -2.21079   \n",
       "\n",
       "                          readout_connector_pad_Q1  \n",
       "bus1_connector_pad_Q1                     -0.20510  \n",
       "bus2_connector_pad_Q1                     -1.01548  \n",
       "ground_main_plane                        -36.57183  \n",
       "pad_bot_Q1                               -18.79337  \n",
       "pad_top_Q1                                -2.21079  \n",
       "readout_connector_pad_Q1                  59.86763  "
      ]
     },
     "execution_count": 38,
     "metadata": {},
     "output_type": "execute_result"
    }
   ],
   "source": [
    "c1.sim.run(components=['Q1'], open_terminations=[('Q1', 'readout'), ('Q1', 'bus1'), ('Q1', 'bus2')])\n",
    "c1.sim.capacitance_matrix"
   ]
  },
  {
   "cell_type": "markdown",
   "metadata": {},
   "source": [
    "The last variables you pass to the `run()` or `sim.run()` methods, will be stored in the `sim.setup` dictionary under the key `run`. You can recall the information passed by either accessing the dictionary directly, or by using the print handle below."
   ]
  },
  {
   "cell_type": "code",
   "execution_count": 27,
   "metadata": {},
   "outputs": [
    {
     "name": "stdout",
     "output_type": "stream",
     "text": [
      "This analysis object run with the following kwargs:\n",
      "{}\n",
      "\n"
     ]
    }
   ],
   "source": [
    "# c1.setup.run    <- direct access\n",
    "c1.print_run_args()"
   ]
  },
  {
   "cell_type": "markdown",
   "metadata": {},
   "source": [
    "You can re-run the analysis after varying the parameters.<br>\n",
    "Not passing the parameter `components` to the `sim.run()` method, skips the rendering and tries to run the analysis on the latest design. If a design is not found, the full metal design is rendered."
   ]
  },
  {
   "cell_type": "code",
   "execution_count": 39,
   "metadata": {},
   "outputs": [
    {
     "name": "stderr",
     "output_type": "stream",
     "text": [
      "INFO 03:23PM [get_setup]: \tOpened setup `Setup`  (<class 'pyEPR.ansys.AnsysQ3DSetup'>)\n",
      "INFO 03:23PM [analyze]: Analyzing setup Setup\n",
      "INFO 03:24PM [get_matrix]: Exporting matrix data to (C:\\Users\\neohu\\AppData\\Local\\Temp\\tmpq3m8gtm_.txt, C, , Setup:LastAdaptive, \"Original\", \"ohm\", \"nH\", \"fF\", \"mSie\", 4800000000, Maxwell, 1, False\n",
      "INFO 03:24PM [get_matrix]: Exporting matrix data to (C:\\Users\\neohu\\AppData\\Local\\Temp\\tmpcgq8t978.txt, C, , Setup:AdaptivePass, \"Original\", \"ohm\", \"nH\", \"fF\", \"mSie\", 4800000000, Maxwell, 1, False\n",
      "INFO 03:24PM [get_matrix]: Exporting matrix data to (C:\\Users\\neohu\\AppData\\Local\\Temp\\tmpcqkezhi_.txt, C, , Setup:AdaptivePass, \"Original\", \"ohm\", \"nH\", \"fF\", \"mSie\", 4800000000, Maxwell, 2, False\n",
      "INFO 03:24PM [get_matrix]: Exporting matrix data to (C:\\Users\\neohu\\AppData\\Local\\Temp\\tmpkroj1dka.txt, C, , Setup:AdaptivePass, \"Original\", \"ohm\", \"nH\", \"fF\", \"mSie\", 4800000000, Maxwell, 3, False\n",
      "INFO 03:24PM [get_matrix]: Exporting matrix data to (C:\\Users\\neohu\\AppData\\Local\\Temp\\tmp1d_qfh_k.txt, C, , Setup:AdaptivePass, \"Original\", \"ohm\", \"nH\", \"fF\", \"mSie\", 4800000000, Maxwell, 4, False\n",
      "INFO 03:24PM [get_matrix]: Exporting matrix data to (C:\\Users\\neohu\\AppData\\Local\\Temp\\tmppi1cn5ka.txt, C, , Setup:AdaptivePass, \"Original\", \"ohm\", \"nH\", \"fF\", \"mSie\", 4800000000, Maxwell, 5, False\n",
      "INFO 03:24PM [get_matrix]: Exporting matrix data to (C:\\Users\\neohu\\AppData\\Local\\Temp\\tmp_tt9qtbo.txt, C, , Setup:AdaptivePass, \"Original\", \"ohm\", \"nH\", \"fF\", \"mSie\", 4800000000, Maxwell, 6, False\n",
      "INFO 03:24PM [get_matrix]: Exporting matrix data to (C:\\Users\\neohu\\AppData\\Local\\Temp\\tmp3dvi4ts6.txt, C, , Setup:AdaptivePass, \"Original\", \"ohm\", \"nH\", \"fF\", \"mSie\", 4800000000, Maxwell, 7, False\n"
     ]
    },
    {
     "data": {
      "text/html": [
       "<div>\n",
       "<style scoped>\n",
       "    .dataframe tbody tr th:only-of-type {\n",
       "        vertical-align: middle;\n",
       "    }\n",
       "\n",
       "    .dataframe tbody tr th {\n",
       "        vertical-align: top;\n",
       "    }\n",
       "\n",
       "    .dataframe thead th {\n",
       "        text-align: right;\n",
       "    }\n",
       "</style>\n",
       "<table border=\"1\" class=\"dataframe\">\n",
       "  <thead>\n",
       "    <tr style=\"text-align: right;\">\n",
       "      <th></th>\n",
       "      <th>bus1_connector_pad_Q1</th>\n",
       "      <th>bus2_connector_pad_Q1</th>\n",
       "      <th>ground_main_plane</th>\n",
       "      <th>pad_bot_Q1</th>\n",
       "      <th>pad_top_Q1</th>\n",
       "      <th>readout_connector_pad_Q1</th>\n",
       "    </tr>\n",
       "  </thead>\n",
       "  <tbody>\n",
       "    <tr>\n",
       "      <th>bus1_connector_pad_Q1</th>\n",
       "      <td>49.81918</td>\n",
       "      <td>-0.42243</td>\n",
       "      <td>-33.47371</td>\n",
       "      <td>-1.56619</td>\n",
       "      <td>-13.23557</td>\n",
       "      <td>-0.20510</td>\n",
       "    </tr>\n",
       "    <tr>\n",
       "      <th>bus2_connector_pad_Q1</th>\n",
       "      <td>-0.42243</td>\n",
       "      <td>53.94438</td>\n",
       "      <td>-35.81375</td>\n",
       "      <td>-13.86735</td>\n",
       "      <td>-1.83231</td>\n",
       "      <td>-1.01548</td>\n",
       "    </tr>\n",
       "    <tr>\n",
       "      <th>ground_main_plane</th>\n",
       "      <td>-33.47371</td>\n",
       "      <td>-35.81375</td>\n",
       "      <td>237.80286</td>\n",
       "      <td>-31.52794</td>\n",
       "      <td>-37.95934</td>\n",
       "      <td>-36.57183</td>\n",
       "    </tr>\n",
       "    <tr>\n",
       "      <th>pad_bot_Q1</th>\n",
       "      <td>-1.56619</td>\n",
       "      <td>-13.86735</td>\n",
       "      <td>-31.52794</td>\n",
       "      <td>98.12446</td>\n",
       "      <td>-30.21163</td>\n",
       "      <td>-18.79337</td>\n",
       "    </tr>\n",
       "    <tr>\n",
       "      <th>pad_top_Q1</th>\n",
       "      <td>-13.23557</td>\n",
       "      <td>-1.83231</td>\n",
       "      <td>-37.95934</td>\n",
       "      <td>-30.21163</td>\n",
       "      <td>88.15054</td>\n",
       "      <td>-2.21079</td>\n",
       "    </tr>\n",
       "    <tr>\n",
       "      <th>readout_connector_pad_Q1</th>\n",
       "      <td>-0.20510</td>\n",
       "      <td>-1.01548</td>\n",
       "      <td>-36.57183</td>\n",
       "      <td>-18.79337</td>\n",
       "      <td>-2.21079</td>\n",
       "      <td>59.86763</td>\n",
       "    </tr>\n",
       "  </tbody>\n",
       "</table>\n",
       "</div>"
      ],
      "text/plain": [
       "                          bus1_connector_pad_Q1  bus2_connector_pad_Q1  \\\n",
       "bus1_connector_pad_Q1                  49.81918               -0.42243   \n",
       "bus2_connector_pad_Q1                  -0.42243               53.94438   \n",
       "ground_main_plane                     -33.47371              -35.81375   \n",
       "pad_bot_Q1                             -1.56619              -13.86735   \n",
       "pad_top_Q1                            -13.23557               -1.83231   \n",
       "readout_connector_pad_Q1               -0.20510               -1.01548   \n",
       "\n",
       "                          ground_main_plane  pad_bot_Q1  pad_top_Q1  \\\n",
       "bus1_connector_pad_Q1             -33.47371    -1.56619   -13.23557   \n",
       "bus2_connector_pad_Q1             -35.81375   -13.86735    -1.83231   \n",
       "ground_main_plane                 237.80286   -31.52794   -37.95934   \n",
       "pad_bot_Q1                        -31.52794    98.12446   -30.21163   \n",
       "pad_top_Q1                        -37.95934   -30.21163    88.15054   \n",
       "readout_connector_pad_Q1          -36.57183   -18.79337    -2.21079   \n",
       "\n",
       "                          readout_connector_pad_Q1  \n",
       "bus1_connector_pad_Q1                     -0.20510  \n",
       "bus2_connector_pad_Q1                     -1.01548  \n",
       "ground_main_plane                        -36.57183  \n",
       "pad_bot_Q1                               -18.79337  \n",
       "pad_top_Q1                                -2.21079  \n",
       "readout_connector_pad_Q1                  59.86763  "
      ]
     },
     "execution_count": 39,
     "metadata": {},
     "output_type": "execute_result"
    }
   ],
   "source": [
    "c1.sim.setup.freq_ghz = 4.8\n",
    "c1.sim.run()\n",
    "c1.sim.capacitance_matrix"
   ]
  },
  {
   "cell_type": "code",
   "execution_count": 40,
   "metadata": {},
   "outputs": [
    {
     "data": {
      "text/plain": [
       "pandas.core.frame.DataFrame"
      ]
     },
     "execution_count": 40,
     "metadata": {},
     "output_type": "execute_result"
    }
   ],
   "source": [
    "type(c1.sim.capacitance_matrix)"
   ]
  },
  {
   "cell_type": "markdown",
   "metadata": {},
   "source": [
    "### Lumped oscillator model (LOM)\n",
    "\n",
    "Using capacitance matrices obtained from each pass, save the many parameters of the Hamiltonian of the system. `get_lumped_oscillator()` operates on 4 setup parameters: <br><br>\n",
    "Lj: float <br>\n",
    "Cj: float <br>\n",
    "fr: Union[list, float] <br>\n",
    "fb: Union[list, float] <br>"
   ]
  },
  {
   "cell_type": "code",
   "execution_count": 41,
   "metadata": {},
   "outputs": [
    {
     "name": "stdout",
     "output_type": "stream",
     "text": [
      "[3, 4] [5 0 1]\n",
      "Predicted Values\n",
      "\n",
      "Transmon Properties\n",
      "f_Q 5.419121 [GHz]\n",
      "EC 311.261771 [MHz]\n",
      "EJ 13.273404 [GHz]\n",
      "alpha -362.874795 [MHz]\n",
      "dispersion 45.611675 [KHz]\n",
      "Lq 12.305036 [nH]\n",
      "Cq 62.231311 [fF]\n",
      "T1 35.937824 [us]\n",
      "\n",
      "**Coupling Properties**\n",
      "\n",
      "tCqbus1 7.378437 [fF]\n",
      "gbus1_in_MHz 113.980039 [MHz]\n",
      "χ_bus1 -3.131319 [MHz]\n",
      "1/T1bus1 2771.369876 [Hz]\n",
      "T1bus1 57.428258 [us]\n",
      "\n",
      "tCqbus2 -6.477983 [fF]\n",
      "gbus2_in_MHz -85.977604 [MHz]\n",
      "χ_bus2 -9.828676 [MHz]\n",
      "1/T1bus2 1184.140575 [Hz]\n",
      "T1bus2 134.405447 [us]\n",
      "\n",
      "tCqbus3 5.335204 [fF]\n",
      "gbus3_in_MHz 73.127844 [MHz]\n",
      "χ_bus3 -4.375140 [MHz]\n",
      "1/T1bus3 473.108926 [Hz]\n",
      "T1bus3 336.402326 [us]\n",
      "Bus-Bus Couplings\n",
      "gbus1_2 7.114557 [MHz]\n",
      "gbus1_3 9.888705 [MHz]\n",
      "gbus2_3 5.359322 [MHz]\n"
     ]
    },
    {
     "data": {
      "text/html": [
       "<div>\n",
       "<style scoped>\n",
       "    .dataframe tbody tr th:only-of-type {\n",
       "        vertical-align: middle;\n",
       "    }\n",
       "\n",
       "    .dataframe tbody tr th {\n",
       "        vertical-align: top;\n",
       "    }\n",
       "\n",
       "    .dataframe thead th {\n",
       "        text-align: right;\n",
       "    }\n",
       "</style>\n",
       "<table border=\"1\" class=\"dataframe\">\n",
       "  <thead>\n",
       "    <tr style=\"text-align: right;\">\n",
       "      <th></th>\n",
       "      <th>fQ</th>\n",
       "      <th>EC</th>\n",
       "      <th>EJ</th>\n",
       "      <th>alpha</th>\n",
       "      <th>dispersion</th>\n",
       "      <th>gbus</th>\n",
       "      <th>chi_in_MHz</th>\n",
       "      <th>χr MHz</th>\n",
       "      <th>gr MHz</th>\n",
       "    </tr>\n",
       "  </thead>\n",
       "  <tbody>\n",
       "    <tr>\n",
       "      <th>1</th>\n",
       "      <td>5.748331</td>\n",
       "      <td>353.260737</td>\n",
       "      <td>13.273404</td>\n",
       "      <td>-417.414672</td>\n",
       "      <td>135.303888</td>\n",
       "      <td>[108.86765651932949, -73.17555786961387, 76.49...</td>\n",
       "      <td>[-4.799119341539517, -26.580841955363297, -12....</td>\n",
       "      <td>4.799119</td>\n",
       "      <td>108.867657</td>\n",
       "    </tr>\n",
       "    <tr>\n",
       "      <th>2</th>\n",
       "      <td>5.647243</td>\n",
       "      <td>340.03617</td>\n",
       "      <td>13.273404</td>\n",
       "      <td>-400.096652</td>\n",
       "      <td>98.236922</td>\n",
       "      <td>[111.96662791723152, -82.65906313606445, 68.90...</td>\n",
       "      <td>[-4.295409009337177, -20.628545575547644, -7.2...</td>\n",
       "      <td>4.295409</td>\n",
       "      <td>111.966628</td>\n",
       "    </tr>\n",
       "    <tr>\n",
       "      <th>3</th>\n",
       "      <td>5.557843</td>\n",
       "      <td>328.584288</td>\n",
       "      <td>13.273404</td>\n",
       "      <td>-385.208019</td>\n",
       "      <td>73.285465</td>\n",
       "      <td>[110.75067006603047, -83.82114945286732, 70.94...</td>\n",
       "      <td>[-3.647572107050837, -14.838438186356774, -5.9...</td>\n",
       "      <td>3.647572</td>\n",
       "      <td>110.750670</td>\n",
       "    </tr>\n",
       "    <tr>\n",
       "      <th>4</th>\n",
       "      <td>5.492177</td>\n",
       "      <td>320.316929</td>\n",
       "      <td>13.273404</td>\n",
       "      <td>-374.521207</td>\n",
       "      <td>58.729137</td>\n",
       "      <td>[110.11053066612726, -84.06701492048614, 71.17...</td>\n",
       "      <td>[-3.259735506980832, -11.855725813353665, -4.9...</td>\n",
       "      <td>3.259736</td>\n",
       "      <td>110.110531</td>\n",
       "    </tr>\n",
       "    <tr>\n",
       "      <th>5</th>\n",
       "      <td>5.448159</td>\n",
       "      <td>314.843076</td>\n",
       "      <td>13.273404</td>\n",
       "      <td>-367.473626</td>\n",
       "      <td>50.474189</td>\n",
       "      <td>[112.62966221735108, -84.55698678522351, 71.59...</td>\n",
       "      <td>[-3.192170757266856, -10.399463994706185, -4.5...</td>\n",
       "      <td>3.192171</td>\n",
       "      <td>112.629662</td>\n",
       "    </tr>\n",
       "    <tr>\n",
       "      <th>6</th>\n",
       "      <td>5.419121</td>\n",
       "      <td>311.261771</td>\n",
       "      <td>13.273404</td>\n",
       "      <td>-362.874795</td>\n",
       "      <td>45.611675</td>\n",
       "      <td>[113.98003859079542, -85.97760379482702, 73.12...</td>\n",
       "      <td>[-3.1313191966629503, -9.828676485586998, -4.3...</td>\n",
       "      <td>3.131319</td>\n",
       "      <td>113.980039</td>\n",
       "    </tr>\n",
       "  </tbody>\n",
       "</table>\n",
       "</div>"
      ],
      "text/plain": [
       "         fQ          EC         EJ       alpha  dispersion  \\\n",
       "1  5.748331  353.260737  13.273404 -417.414672  135.303888   \n",
       "2  5.647243   340.03617  13.273404 -400.096652   98.236922   \n",
       "3  5.557843  328.584288  13.273404 -385.208019   73.285465   \n",
       "4  5.492177  320.316929  13.273404 -374.521207   58.729137   \n",
       "5  5.448159  314.843076  13.273404 -367.473626   50.474189   \n",
       "6  5.419121  311.261771  13.273404 -362.874795   45.611675   \n",
       "\n",
       "                                                gbus  \\\n",
       "1  [108.86765651932949, -73.17555786961387, 76.49...   \n",
       "2  [111.96662791723152, -82.65906313606445, 68.90...   \n",
       "3  [110.75067006603047, -83.82114945286732, 70.94...   \n",
       "4  [110.11053066612726, -84.06701492048614, 71.17...   \n",
       "5  [112.62966221735108, -84.55698678522351, 71.59...   \n",
       "6  [113.98003859079542, -85.97760379482702, 73.12...   \n",
       "\n",
       "                                          chi_in_MHz    χr MHz      gr MHz  \n",
       "1  [-4.799119341539517, -26.580841955363297, -12....  4.799119  108.867657  \n",
       "2  [-4.295409009337177, -20.628545575547644, -7.2...  4.295409  111.966628  \n",
       "3  [-3.647572107050837, -14.838438186356774, -5.9...  3.647572  110.750670  \n",
       "4  [-3.259735506980832, -11.855725813353665, -4.9...  3.259736  110.110531  \n",
       "5  [-3.192170757266856, -10.399463994706185, -4.5...  3.192171  112.629662  \n",
       "6  [-3.1313191966629503, -9.828676485586998, -4.3...  3.131319  113.980039  "
      ]
     },
     "execution_count": 41,
     "metadata": {},
     "output_type": "execute_result"
    }
   ],
   "source": [
    "c1.setup.junctions = Dict({'Lj': 12.31, 'Cj': 2})\n",
    "c1.setup.freq_readout = 7.0\n",
    "c1.setup.freq_bus = [6.0, 6.2]\n",
    "\n",
    "c1.run_lom()\n",
    "c1.lumped_oscillator_all"
   ]
  },
  {
   "cell_type": "code",
   "execution_count": 42,
   "metadata": {},
   "outputs": [],
   "source": [
    "# c1.plot_convergence();\n",
    "c1.plot_convergence_chi()"
   ]
  },
  {
   "cell_type": "markdown",
   "metadata": {},
   "source": [
    "Once you are done with your analysis, please close it with `close()`. This will free up resources currently occupied by qiskit-metal to communiate with the tool."
   ]
  },
  {
   "cell_type": "code",
   "execution_count": 43,
   "metadata": {},
   "outputs": [
    {
     "name": "stdout",
     "output_type": "stream",
     "text": [
      "Warning! 3 COM references still alive\n",
      "Ansys will likely refuse to shut down\n"
     ]
    }
   ],
   "source": [
    "c1.sim.close()"
   ]
  },
  {
   "cell_type": "markdown",
   "metadata": {},
   "source": [
    "## 3. Directly access the renderer to modify other parameters"
   ]
  },
  {
   "cell_type": "code",
   "execution_count": 44,
   "metadata": {},
   "outputs": [
    {
     "name": "stderr",
     "output_type": "stream",
     "text": [
      "INFO 03:24PM [connect_project]: Connecting to Ansys Desktop API...\n",
      "INFO 03:24PM [load_ansys_project]: \tOpened Ansys App\n",
      "INFO 03:24PM [load_ansys_project]: \tOpened Ansys Desktop v2023.1.0\n",
      "INFO 03:24PM [load_ansys_project]: \tOpened Ansys Project\n",
      "\tFolder:    C:/Workspaces/AnsysElectronics2023R1/\n",
      "\tProject:   Project1\n",
      "INFO 03:24PM [connect_design]: \tOpened active design\n",
      "\tDesign:    Design_q3d [Solution type: Q3D]\n",
      "INFO 03:24PM [get_setup]: \tOpened setup `Setup`  (<class 'pyEPR.ansys.AnsysQ3DSetup'>)\n",
      "INFO 03:24PM [connect]: \tConnected to project \"Project1\" and design \"Design_q3d\" 😀 \n",
      "\n"
     ]
    },
    {
     "data": {
      "text/plain": [
       "<qiskit_metal.renderers.renderer_ansys.q3d_renderer.QQ3DRenderer at 0x2750ee9d0f0>"
      ]
     },
     "execution_count": 44,
     "metadata": {},
     "output_type": "execute_result"
    }
   ],
   "source": [
    "c1.sim.start()\n",
    "c1.sim.renderer"
   ]
  },
  {
   "cell_type": "markdown",
   "metadata": {},
   "source": [
    "Every renderer will have its own collection of methods. Below an example with q3d"
   ]
  },
  {
   "cell_type": "markdown",
   "metadata": {},
   "source": [
    "##### Prepare and run a collection of predefined setups\n",
    "\n",
    "This is equivalent to going to the Project Manager panel in Ansys, right clicking on Analysis within the active Q3D design, selecting \"Add Solution Setup...\", and choosing/entering default values in the resulting popup window. You might want to do this to keep track of different solution setups, giving each of them a different/specific name."
   ]
  },
  {
   "cell_type": "code",
   "execution_count": 45,
   "metadata": {},
   "outputs": [],
   "source": [
    "setup = c1.sim.renderer.new_ansys_setup(name = \"Setup_demo\", max_passes = 6)"
   ]
  },
  {
   "cell_type": "markdown",
   "metadata": {},
   "source": [
    "You can directly pass to `new_ansys_setup` all the setup parameters. Of course you will then need to run the individual setups by name as well."
   ]
  },
  {
   "cell_type": "code",
   "execution_count": 46,
   "metadata": {},
   "outputs": [
    {
     "name": "stderr",
     "output_type": "stream",
     "text": [
      "INFO 03:24PM [get_setup]: \tOpened setup `Setup_demo`  (<class 'pyEPR.ansys.AnsysQ3DSetup'>)\n",
      "INFO 03:24PM [analyze]: Analyzing setup Setup_demo\n"
     ]
    }
   ],
   "source": [
    "c1.sim.renderer.analyze_setup(setup.name)"
   ]
  },
  {
   "cell_type": "markdown",
   "metadata": {},
   "source": [
    "##### Get the capactiance matrix at a different pass\n",
    "\n",
    "You might want to use this if you intend to know what was the matrix at a different pass of the simulation."
   ]
  },
  {
   "cell_type": "code",
   "execution_count": 47,
   "metadata": {},
   "outputs": [
    {
     "name": "stderr",
     "output_type": "stream",
     "text": [
      "INFO 03:25PM [get_matrix]: Exporting matrix data to (C:\\Users\\neohu\\AppData\\Local\\Temp\\tmp2ntfdxa1.txt, C, , Setup_demo:AdaptivePass, \"Original\", \"ohm\", \"nH\", \"fF\", \"mSie\", 5000000000, Maxwell, 5, False\n"
     ]
    },
    {
     "data": {
      "text/plain": [
       "(                          bus1_connector_pad_Q1  bus2_connector_pad_Q1  \\\n",
       " bus1_connector_pad_Q1                  48.99347               -0.42235   \n",
       " bus2_connector_pad_Q1                  -0.42235               52.97064   \n",
       " ground_main_plane                     -32.99092              -35.26835   \n",
       " pad_bot_Q1                             -1.53888              -13.44109   \n",
       " pad_top_Q1                            -12.93518               -1.81606   \n",
       " readout_connector_pad_Q1               -0.20643               -1.00431   \n",
       " \n",
       "                           ground_main_plane  pad_bot_Q1  pad_top_Q1  \\\n",
       " bus1_connector_pad_Q1             -32.99092    -1.53888   -12.93518   \n",
       " bus2_connector_pad_Q1             -35.26835   -13.44109    -1.81606   \n",
       " ground_main_plane                 234.25301   -31.45828   -37.86071   \n",
       " pad_bot_Q1                        -31.45828    96.93083   -29.79748   \n",
       " pad_top_Q1                        -37.86071   -29.79748    87.33101   \n",
       " readout_connector_pad_Q1          -36.12069   -18.37962    -2.21280   \n",
       " \n",
       "                           readout_connector_pad_Q1  \n",
       " bus1_connector_pad_Q1                     -0.20643  \n",
       " bus2_connector_pad_Q1                     -1.00431  \n",
       " ground_main_plane                        -36.12069  \n",
       " pad_bot_Q1                               -18.37962  \n",
       " pad_top_Q1                                -2.21280  \n",
       " readout_connector_pad_Q1                  59.02957  ,\n",
       " 'fF')"
      ]
     },
     "execution_count": 47,
     "metadata": {},
     "output_type": "execute_result"
    }
   ],
   "source": [
    "# Using the analysis results, get its capacitance matrix as a dataframe.\n",
    "c1.sim.renderer.get_capacitance_matrix(variation = '', solution_kind = 'AdaptivePass', pass_number = 5)"
   ]
  },
  {
   "cell_type": "markdown",
   "metadata": {},
   "source": [
    "### Code to swap rows and columns in capacitance matrix\n",
    "from qiskit_metal.analyses.quantization.lumped_capacitive import df_reorder_matrix_basis\n",
    "\n",
    "df_reorder_matrix_basis(fourq_q3d.get_capacitance_matrix(), 1, 2)"
   ]
  },
  {
   "cell_type": "markdown",
   "metadata": {},
   "source": [
    "##### Close the renderer"
   ]
  },
  {
   "cell_type": "code",
   "execution_count": 48,
   "metadata": {},
   "outputs": [
    {
     "name": "stdout",
     "output_type": "stream",
     "text": [
      "Warning! 3 COM references still alive\n",
      "Ansys will likely refuse to shut down\n"
     ]
    }
   ],
   "source": [
    "c1.sim.close()"
   ]
  },
  {
   "cell_type": "code",
   "execution_count": null,
   "metadata": {},
   "outputs": [],
   "source": []
  }
 ],
 "metadata": {
  "celltoolbar": "Tags",
  "kernelspec": {
   "display_name": "qiskit_metal_clone",
   "language": "python",
   "name": "qiskit_metal_clone"
  },
  "language_info": {
   "codemirror_mode": {
    "name": "ipython",
    "version": 3
   },
   "file_extension": ".py",
   "mimetype": "text/x-python",
   "name": "python",
   "nbconvert_exporter": "python",
   "pygments_lexer": "ipython3",
   "version": "3.10.6"
  }
 },
 "nbformat": 4,
 "nbformat_minor": 4
}
